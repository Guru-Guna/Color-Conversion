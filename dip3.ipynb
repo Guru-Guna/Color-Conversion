{
 "cells": [
  {
   "cell_type": "code",
   "execution_count": 2,
   "id": "c10852ed",
   "metadata": {},
   "outputs": [
    {
     "name": "stdout",
     "output_type": "stream",
     "text": [
      "Requirement already satisfied: opencv-python in c:\\users\\lovely_devil\\anaconda3\\lib\\site-packages (4.7.0.72)Note: you may need to restart the kernel to use updated packages.\n",
      "\n",
      "Requirement already satisfied: numpy>=1.17.0 in c:\\users\\lovely_devil\\anaconda3\\lib\\site-packages (from opencv-python) (1.21.5)\n"
     ]
    }
   ],
   "source": [
    "pip install opencv-python\n"
   ]
  },
  {
   "cell_type": "code",
   "execution_count": 5,
   "id": "21277369",
   "metadata": {},
   "outputs": [],
   "source": [
    "import cv2\n",
    "uni = cv2.imread('lamboo.jpg')\n",
    "cv2.imshow('Original image',uni)\n",
    "cv2.waitKey(0)\n",
    "cv2. destroyAllWindows()"
   ]
  },
  {
   "cell_type": "code",
   "execution_count": 6,
   "id": "bb729a84",
   "metadata": {},
   "outputs": [],
   "source": [
    "import cv2\n",
    "uni = cv2.imread('lamboo.jpg')\n",
    "hsv_image = cv2.cvtColor(uni, cv2.COLOR_BGR2HSV)\n",
    "cv2.imshow('BGR2HSV' ,hsv_image )\n",
    "cv2.waitKey(0)\n",
    "cv2. destroyAllWindows()"
   ]
  },
  {
   "cell_type": "code",
   "execution_count": 8,
   "id": "29ca078b",
   "metadata": {},
   "outputs": [],
   "source": [
    "import cv2\n",
    "uni = cv2.imread('lamboo.jpg')\n",
    "gray_image = cv2.cvtColor(uni, cv2.COLOR_BGR2GRAY)\n",
    "cv2.imshow( 'BGR2GRAY', gray_image)\n",
    "cv2.waitKey(0)\n",
    "cv2. destroyAllWindows()"
   ]
  },
  {
   "cell_type": "code",
   "execution_count": 9,
   "id": "3f9ed3f5",
   "metadata": {},
   "outputs": [],
   "source": [
    "import cv2\n",
    "uni = cv2.imread('lamboo.jpg')\n",
    "hsv_image = cv2.cvtColor(uni, cv2.COLOR_RGB2HSV)\n",
    "cv2.imshow('RGB2HSV', hsv_image)\n",
    "cv2.waitKey(0)\n",
    "cv2. destroyAllWindows()"
   ]
  },
  {
   "cell_type": "code",
   "execution_count": 11,
   "id": "551d691b",
   "metadata": {},
   "outputs": [],
   "source": [
    "import cv2\n",
    "uni = cv2.imread('lamboo.jpg')\n",
    "gray_image1 = cv2.cvtColor (uni, cv2.COLOR_RGB2GRAY)\n",
    "cv2.imshow('RGB2GRAY', gray_image1)\n",
    "cv2.waitKey(0)\n",
    "cv2. destroyAllWindows()"
   ]
  },
  {
   "cell_type": "code",
   "execution_count": 12,
   "id": "6094e924",
   "metadata": {},
   "outputs": [],
   "source": [
    "import cv2\n",
    "uni = cv2.imread('lamboo.jpg')\n",
    "RGB_image = cv2.cvtColor(uni,cv2.COLOR_HSV2RGB)\n",
    "cv2.imshow('HSV to RGB',RGB_image )\n",
    "cv2.waitKey(0)\n",
    "cv2.destroyAllWindows()"
   ]
  },
  {
   "cell_type": "code",
   "execution_count": 13,
   "id": "19f3ddcc",
   "metadata": {},
   "outputs": [],
   "source": [
    "import cv2\n",
    "uni = cv2.imread('lamboo.jpg')\n",
    "BGR_image = cv2.cvtColor(uni,cv2.COLOR_HSV2BGR)\n",
    "cv2.imshow('HSV to BGR',BGR_image)\n",
    "cv2.waitKey(0)\n",
    "cv2.destroyAllWindows()"
   ]
  },
  {
   "cell_type": "code",
   "execution_count": 14,
   "id": "217629a7",
   "metadata": {},
   "outputs": [],
   "source": [
    "import cv2\n",
    "uni = cv2.imread('lamboo.jpg')\n",
    "YCrCb_image = cv2.cvtColor(uni, cv2.COLOR_RGB2YCrCb)\n",
    "cv2.imshow('RGB2YCrCb',YCrCb_image)\n",
    "cv2.waitKey(0)\n",
    "cv2.destroyAllWindows()"
   ]
  },
  {
   "cell_type": "code",
   "execution_count": 15,
   "id": "75d6a577",
   "metadata": {},
   "outputs": [],
   "source": [
    "import cv2\n",
    "uni = cv2.imread('lamboo.jpg')\n",
    "YCrCb_image = cv2.cvtColor(uni, cv2.COLOR_BGR2YCrCb)\n",
    "cv2.imshow('BGR2YCrCb',YCrCb_image)\n",
    "cv2.waitKey(0)\n",
    "cv2.destroyAllWindows()"
   ]
  },
  {
   "cell_type": "code",
   "execution_count": null,
   "id": "d18886da",
   "metadata": {},
   "outputs": [],
   "source": [
    "import cv2\n",
    "uni = cv2.imread('lamboo.jpg')\n",
    "blue=uni[:,:,0]\n",
    "green=uni[:,:,1]\n",
    "red=uni[:,:,2]\n",
    "cv2.imshow('B-Channel',blue)\n",
    "cv2.imshow('G-Channel',green)\n",
    "cv2.imshow('R-Channel',red)\n",
    "\n",
    "merged_BGR=cv2.merge((blue,green,red))\n",
    "cv2.imshow('Merged BGR Image',merged_BGR)\n",
    "cv2.waitKey(0)\n",
    "cv2.destoryAllWindows()"
   ]
  },
  {
   "cell_type": "code",
   "execution_count": null,
   "id": "3280dce3",
   "metadata": {},
   "outputs": [],
   "source": [
    "import cv2\n",
    "uni = cv2.imread('lamboo.jpg')\n",
    "hsv=cv2.cvtColor(uni,cv2.COLOR_BGR2HSV)\n",
    "h,s,v=cv2.split(hsv)\n",
    "cv2.imshow(\"Hue-image\",h)\n",
    "cv2.imshow(\"Saturation-image\",s)\n",
    "cv2.imshow(\"gray-image\",v)"
   ]
  },
  {
   "cell_type": "code",
   "execution_count": 20,
   "id": "57542ab6",
   "metadata": {},
   "outputs": [
    {
     "ename": "AttributeError",
     "evalue": "module 'cv2' has no attribute 'destoryAllWindows'",
     "output_type": "error",
     "traceback": [
      "\u001b[1;31m---------------------------------------------------------------------------\u001b[0m",
      "\u001b[1;31mAttributeError\u001b[0m                            Traceback (most recent call last)",
      "\u001b[1;32m~\\AppData\\Local\\Temp\\ipykernel_21292\\3985507526.py\u001b[0m in \u001b[0;36m<module>\u001b[1;34m\u001b[0m\n\u001b[0;32m      2\u001b[0m \u001b[0mcv2\u001b[0m\u001b[1;33m.\u001b[0m\u001b[0mimshow\u001b[0m\u001b[1;33m(\u001b[0m\u001b[1;34m'Merged HSV Image'\u001b[0m\u001b[1;33m,\u001b[0m\u001b[0mMerged_HSV\u001b[0m\u001b[1;33m)\u001b[0m\u001b[1;33m\u001b[0m\u001b[1;33m\u001b[0m\u001b[0m\n\u001b[0;32m      3\u001b[0m \u001b[0mcv2\u001b[0m\u001b[1;33m.\u001b[0m\u001b[0mwaitKey\u001b[0m\u001b[1;33m(\u001b[0m\u001b[1;36m0\u001b[0m\u001b[1;33m)\u001b[0m\u001b[1;33m\u001b[0m\u001b[1;33m\u001b[0m\u001b[0m\n\u001b[1;32m----> 4\u001b[1;33m \u001b[0mcv2\u001b[0m\u001b[1;33m.\u001b[0m\u001b[0mdestoryAllWindows\u001b[0m\u001b[1;33m(\u001b[0m\u001b[1;33m)\u001b[0m\u001b[1;33m\u001b[0m\u001b[1;33m\u001b[0m\u001b[0m\n\u001b[0m",
      "\u001b[1;31mAttributeError\u001b[0m: module 'cv2' has no attribute 'destoryAllWindows'"
     ]
    }
   ],
   "source": [
    "Merged_HSV=cv2.merge((h,s,v))\n",
    "cv2.imshow('Merged HSV Image',Merged_HSV)\n",
    "cv2.waitKey(0)\n",
    "cv2.destoryAllWindows()"
   ]
  },
  {
   "cell_type": "code",
   "execution_count": null,
   "id": "08861b13",
   "metadata": {},
   "outputs": [],
   "source": []
  }
 ],
 "metadata": {
  "kernelspec": {
   "display_name": "Python 3 (ipykernel)",
   "language": "python",
   "name": "python3"
  },
  "language_info": {
   "codemirror_mode": {
    "name": "ipython",
    "version": 3
   },
   "file_extension": ".py",
   "mimetype": "text/x-python",
   "name": "python",
   "nbconvert_exporter": "python",
   "pygments_lexer": "ipython3",
   "version": "3.9.13"
  }
 },
 "nbformat": 4,
 "nbformat_minor": 5
}
